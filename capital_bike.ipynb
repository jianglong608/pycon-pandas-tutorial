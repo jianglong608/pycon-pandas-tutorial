{
 "cells": [
  {
   "cell_type": "code",
   "execution_count": 37,
   "metadata": {
    "collapsed": true
   },
   "outputs": [],
   "source": [
    "%matplotlib inline"
   ]
  },
  {
   "cell_type": "code",
   "execution_count": 7,
   "metadata": {
    "collapsed": false
   },
   "outputs": [],
   "source": [
    "import pandas as pd\n",
    "df = pd.read_csv(\"2016-Q1-Trips-History-Data.csv\")"
   ]
  },
  {
   "cell_type": "code",
   "execution_count": 8,
   "metadata": {
    "collapsed": false
   },
   "outputs": [
    {
     "data": {
      "text/html": [
       "<div>\n",
       "<table border=\"1\" class=\"dataframe\">\n",
       "  <thead>\n",
       "    <tr style=\"text-align: right;\">\n",
       "      <th></th>\n",
       "      <th>Duration (ms)</th>\n",
       "      <th>Start date</th>\n",
       "      <th>End date</th>\n",
       "      <th>Start station number</th>\n",
       "      <th>Start station</th>\n",
       "      <th>End station number</th>\n",
       "      <th>End station</th>\n",
       "      <th>Bike number</th>\n",
       "      <th>Member Type</th>\n",
       "    </tr>\n",
       "  </thead>\n",
       "  <tbody>\n",
       "    <tr>\n",
       "      <th>0</th>\n",
       "      <td>301295</td>\n",
       "      <td>3/31/2016 23:59</td>\n",
       "      <td>4/1/2016 0:04</td>\n",
       "      <td>31280</td>\n",
       "      <td>11th &amp; S St NW</td>\n",
       "      <td>31506</td>\n",
       "      <td>1st &amp; Rhode Island Ave NW</td>\n",
       "      <td>W00022</td>\n",
       "      <td>Registered</td>\n",
       "    </tr>\n",
       "    <tr>\n",
       "      <th>1</th>\n",
       "      <td>557887</td>\n",
       "      <td>3/31/2016 23:59</td>\n",
       "      <td>4/1/2016 0:08</td>\n",
       "      <td>31275</td>\n",
       "      <td>New Hampshire Ave &amp; 24th St NW</td>\n",
       "      <td>31114</td>\n",
       "      <td>18th St &amp; Wyoming Ave NW</td>\n",
       "      <td>W01294</td>\n",
       "      <td>Registered</td>\n",
       "    </tr>\n",
       "    <tr>\n",
       "      <th>2</th>\n",
       "      <td>555944</td>\n",
       "      <td>3/31/2016 23:59</td>\n",
       "      <td>4/1/2016 0:08</td>\n",
       "      <td>31101</td>\n",
       "      <td>14th &amp; V St NW</td>\n",
       "      <td>31221</td>\n",
       "      <td>18th &amp; M St NW</td>\n",
       "      <td>W01416</td>\n",
       "      <td>Registered</td>\n",
       "    </tr>\n",
       "    <tr>\n",
       "      <th>3</th>\n",
       "      <td>766916</td>\n",
       "      <td>3/31/2016 23:57</td>\n",
       "      <td>4/1/2016 0:09</td>\n",
       "      <td>31226</td>\n",
       "      <td>34th St &amp; Wisconsin Ave NW</td>\n",
       "      <td>31214</td>\n",
       "      <td>17th &amp; Corcoran St NW</td>\n",
       "      <td>W01090</td>\n",
       "      <td>Registered</td>\n",
       "    </tr>\n",
       "    <tr>\n",
       "      <th>4</th>\n",
       "      <td>139656</td>\n",
       "      <td>3/31/2016 23:57</td>\n",
       "      <td>3/31/2016 23:59</td>\n",
       "      <td>31011</td>\n",
       "      <td>23rd &amp; Crystal Dr</td>\n",
       "      <td>31009</td>\n",
       "      <td>27th &amp; Crystal Dr</td>\n",
       "      <td>W21934</td>\n",
       "      <td>Registered</td>\n",
       "    </tr>\n",
       "  </tbody>\n",
       "</table>\n",
       "</div>"
      ],
      "text/plain": [
       "   Duration (ms)       Start date         End date  Start station number  \\\n",
       "0         301295  3/31/2016 23:59    4/1/2016 0:04                 31280   \n",
       "1         557887  3/31/2016 23:59    4/1/2016 0:08                 31275   \n",
       "2         555944  3/31/2016 23:59    4/1/2016 0:08                 31101   \n",
       "3         766916  3/31/2016 23:57    4/1/2016 0:09                 31226   \n",
       "4         139656  3/31/2016 23:57  3/31/2016 23:59                 31011   \n",
       "\n",
       "                    Start station  End station number  \\\n",
       "0                  11th & S St NW               31506   \n",
       "1  New Hampshire Ave & 24th St NW               31114   \n",
       "2                  14th & V St NW               31221   \n",
       "3      34th St & Wisconsin Ave NW               31214   \n",
       "4               23rd & Crystal Dr               31009   \n",
       "\n",
       "                 End station Bike number Member Type  \n",
       "0  1st & Rhode Island Ave NW      W00022  Registered  \n",
       "1   18th St & Wyoming Ave NW      W01294  Registered  \n",
       "2             18th & M St NW      W01416  Registered  \n",
       "3      17th & Corcoran St NW      W01090  Registered  \n",
       "4          27th & Crystal Dr      W21934  Registered  "
      ]
     },
     "execution_count": 8,
     "metadata": {},
     "output_type": "execute_result"
    }
   ],
   "source": [
    "df.head()"
   ]
  },
  {
   "cell_type": "code",
   "execution_count": 11,
   "metadata": {
    "collapsed": false
   },
   "outputs": [
    {
     "data": {
      "text/html": [
       "<div>\n",
       "<table border=\"1\" class=\"dataframe\">\n",
       "  <thead>\n",
       "    <tr style=\"text-align: right;\">\n",
       "      <th></th>\n",
       "      <th>duration</th>\n",
       "      <th>start_date</th>\n",
       "      <th>end_date</th>\n",
       "      <th>start_station_number</th>\n",
       "      <th>start_station</th>\n",
       "      <th>end_station_number</th>\n",
       "      <th>end_station</th>\n",
       "      <th>bike_number</th>\n",
       "      <th>member_type</th>\n",
       "    </tr>\n",
       "  </thead>\n",
       "  <tbody>\n",
       "    <tr>\n",
       "      <th>0</th>\n",
       "      <td>301295</td>\n",
       "      <td>3/31/2016 23:59</td>\n",
       "      <td>4/1/2016 0:04</td>\n",
       "      <td>31280</td>\n",
       "      <td>11th &amp; S St NW</td>\n",
       "      <td>31506</td>\n",
       "      <td>1st &amp; Rhode Island Ave NW</td>\n",
       "      <td>W00022</td>\n",
       "      <td>Registered</td>\n",
       "    </tr>\n",
       "    <tr>\n",
       "      <th>1</th>\n",
       "      <td>557887</td>\n",
       "      <td>3/31/2016 23:59</td>\n",
       "      <td>4/1/2016 0:08</td>\n",
       "      <td>31275</td>\n",
       "      <td>New Hampshire Ave &amp; 24th St NW</td>\n",
       "      <td>31114</td>\n",
       "      <td>18th St &amp; Wyoming Ave NW</td>\n",
       "      <td>W01294</td>\n",
       "      <td>Registered</td>\n",
       "    </tr>\n",
       "    <tr>\n",
       "      <th>2</th>\n",
       "      <td>555944</td>\n",
       "      <td>3/31/2016 23:59</td>\n",
       "      <td>4/1/2016 0:08</td>\n",
       "      <td>31101</td>\n",
       "      <td>14th &amp; V St NW</td>\n",
       "      <td>31221</td>\n",
       "      <td>18th &amp; M St NW</td>\n",
       "      <td>W01416</td>\n",
       "      <td>Registered</td>\n",
       "    </tr>\n",
       "    <tr>\n",
       "      <th>3</th>\n",
       "      <td>766916</td>\n",
       "      <td>3/31/2016 23:57</td>\n",
       "      <td>4/1/2016 0:09</td>\n",
       "      <td>31226</td>\n",
       "      <td>34th St &amp; Wisconsin Ave NW</td>\n",
       "      <td>31214</td>\n",
       "      <td>17th &amp; Corcoran St NW</td>\n",
       "      <td>W01090</td>\n",
       "      <td>Registered</td>\n",
       "    </tr>\n",
       "    <tr>\n",
       "      <th>4</th>\n",
       "      <td>139656</td>\n",
       "      <td>3/31/2016 23:57</td>\n",
       "      <td>3/31/2016 23:59</td>\n",
       "      <td>31011</td>\n",
       "      <td>23rd &amp; Crystal Dr</td>\n",
       "      <td>31009</td>\n",
       "      <td>27th &amp; Crystal Dr</td>\n",
       "      <td>W21934</td>\n",
       "      <td>Registered</td>\n",
       "    </tr>\n",
       "  </tbody>\n",
       "</table>\n",
       "</div>"
      ],
      "text/plain": [
       "   duration       start_date         end_date  start_station_number  \\\n",
       "0    301295  3/31/2016 23:59    4/1/2016 0:04                 31280   \n",
       "1    557887  3/31/2016 23:59    4/1/2016 0:08                 31275   \n",
       "2    555944  3/31/2016 23:59    4/1/2016 0:08                 31101   \n",
       "3    766916  3/31/2016 23:57    4/1/2016 0:09                 31226   \n",
       "4    139656  3/31/2016 23:57  3/31/2016 23:59                 31011   \n",
       "\n",
       "                    start_station  end_station_number  \\\n",
       "0                  11th & S St NW               31506   \n",
       "1  New Hampshire Ave & 24th St NW               31114   \n",
       "2                  14th & V St NW               31221   \n",
       "3      34th St & Wisconsin Ave NW               31214   \n",
       "4               23rd & Crystal Dr               31009   \n",
       "\n",
       "                 end_station bike_number member_type  \n",
       "0  1st & Rhode Island Ave NW      W00022  Registered  \n",
       "1   18th St & Wyoming Ave NW      W01294  Registered  \n",
       "2             18th & M St NW      W01416  Registered  \n",
       "3      17th & Corcoran St NW      W01090  Registered  \n",
       "4          27th & Crystal Dr      W21934  Registered  "
      ]
     },
     "execution_count": 11,
     "metadata": {},
     "output_type": "execute_result"
    }
   ],
   "source": [
    "df.rename(columns=lambda x: x.replace(\" \", \"_\").lower(), inplace=True)\n",
    "df.rename(columns={'duration_(ms)': 'duration'}, inplace=True)\n",
    "df.head()"
   ]
  },
  {
   "cell_type": "code",
   "execution_count": 15,
   "metadata": {
    "collapsed": false
   },
   "outputs": [
    {
     "data": {
      "text/html": [
       "<div>\n",
       "<table border=\"1\" class=\"dataframe\">\n",
       "  <thead>\n",
       "    <tr style=\"text-align: right;\">\n",
       "      <th></th>\n",
       "      <th>duration</th>\n",
       "      <th>start_date</th>\n",
       "      <th>end_date</th>\n",
       "      <th>start_station_number</th>\n",
       "      <th>start_station</th>\n",
       "      <th>end_station_number</th>\n",
       "      <th>end_station</th>\n",
       "      <th>bike_number</th>\n",
       "      <th>member_type</th>\n",
       "    </tr>\n",
       "  </thead>\n",
       "  <tbody>\n",
       "    <tr>\n",
       "      <th>552394</th>\n",
       "      <td>782042</td>\n",
       "      <td>1/1/2016 0:16</td>\n",
       "      <td>1/1/2016 0:29</td>\n",
       "      <td>31266</td>\n",
       "      <td>11th &amp; M St NW</td>\n",
       "      <td>31278</td>\n",
       "      <td>18th &amp; R St NW</td>\n",
       "      <td>W22090</td>\n",
       "      <td>Registered</td>\n",
       "    </tr>\n",
       "    <tr>\n",
       "      <th>552395</th>\n",
       "      <td>213976</td>\n",
       "      <td>1/1/2016 0:15</td>\n",
       "      <td>1/1/2016 0:19</td>\n",
       "      <td>31506</td>\n",
       "      <td>1st &amp; Rhode Island Ave NW</td>\n",
       "      <td>31509</td>\n",
       "      <td>New Jersey Ave &amp; R St NW</td>\n",
       "      <td>W01294</td>\n",
       "      <td>Registered</td>\n",
       "    </tr>\n",
       "    <tr>\n",
       "      <th>552396</th>\n",
       "      <td>715013</td>\n",
       "      <td>1/1/2016 0:13</td>\n",
       "      <td>1/1/2016 0:25</td>\n",
       "      <td>31222</td>\n",
       "      <td>New York Ave &amp; 15th St NW</td>\n",
       "      <td>31214</td>\n",
       "      <td>17th &amp; Corcoran St NW</td>\n",
       "      <td>W21427</td>\n",
       "      <td>Registered</td>\n",
       "    </tr>\n",
       "    <tr>\n",
       "      <th>552397</th>\n",
       "      <td>448007</td>\n",
       "      <td>1/1/2016 0:10</td>\n",
       "      <td>1/1/2016 0:17</td>\n",
       "      <td>32039</td>\n",
       "      <td>Old Georgetown Rd &amp; Southwick St</td>\n",
       "      <td>32002</td>\n",
       "      <td>Bethesda Ave &amp; Arlington Rd</td>\n",
       "      <td>W22202</td>\n",
       "      <td>Registered</td>\n",
       "    </tr>\n",
       "    <tr>\n",
       "      <th>552398</th>\n",
       "      <td>166066</td>\n",
       "      <td>1/1/2016 0:06</td>\n",
       "      <td>1/1/2016 0:09</td>\n",
       "      <td>31102</td>\n",
       "      <td>11th &amp; Kenyon St NW</td>\n",
       "      <td>31105</td>\n",
       "      <td>14th &amp; Harvard St NW</td>\n",
       "      <td>W01346</td>\n",
       "      <td>Registered</td>\n",
       "    </tr>\n",
       "  </tbody>\n",
       "</table>\n",
       "</div>"
      ],
      "text/plain": [
       "        duration     start_date       end_date  start_station_number  \\\n",
       "552394    782042  1/1/2016 0:16  1/1/2016 0:29                 31266   \n",
       "552395    213976  1/1/2016 0:15  1/1/2016 0:19                 31506   \n",
       "552396    715013  1/1/2016 0:13  1/1/2016 0:25                 31222   \n",
       "552397    448007  1/1/2016 0:10  1/1/2016 0:17                 32039   \n",
       "552398    166066  1/1/2016 0:06  1/1/2016 0:09                 31102   \n",
       "\n",
       "                           start_station  end_station_number  \\\n",
       "552394                    11th & M St NW               31278   \n",
       "552395         1st & Rhode Island Ave NW               31509   \n",
       "552396         New York Ave & 15th St NW               31214   \n",
       "552397  Old Georgetown Rd & Southwick St               32002   \n",
       "552398               11th & Kenyon St NW               31105   \n",
       "\n",
       "                        end_station bike_number member_type  \n",
       "552394               18th & R St NW      W22090  Registered  \n",
       "552395     New Jersey Ave & R St NW      W01294  Registered  \n",
       "552396        17th & Corcoran St NW      W21427  Registered  \n",
       "552397  Bethesda Ave & Arlington Rd      W22202  Registered  \n",
       "552398         14th & Harvard St NW      W01346  Registered  "
      ]
     },
     "execution_count": 15,
     "metadata": {},
     "output_type": "execute_result"
    }
   ],
   "source": [
    "df.tail()"
   ]
  },
  {
   "cell_type": "code",
   "execution_count": 12,
   "metadata": {
    "collapsed": false
   },
   "outputs": [
    {
     "data": {
      "text/plain": [
       "(552399, 9)"
      ]
     },
     "execution_count": 12,
     "metadata": {},
     "output_type": "execute_result"
    }
   ],
   "source": [
    "df.shape"
   ]
  },
  {
   "cell_type": "code",
   "execution_count": 14,
   "metadata": {
    "collapsed": false
   },
   "outputs": [
    {
     "data": {
      "text/plain": [
       "Int64Index([     0,      1,      2,      3,      4,      5,      6,      7,\n",
       "                 8,      9,\n",
       "            ...\n",
       "            552389, 552390, 552391, 552392, 552393, 552394, 552395, 552396,\n",
       "            552397, 552398],\n",
       "           dtype='int64', length=552399)"
      ]
     },
     "execution_count": 14,
     "metadata": {},
     "output_type": "execute_result"
    }
   ],
   "source": [
    "df.index"
   ]
  },
  {
   "cell_type": "code",
   "execution_count": 25,
   "metadata": {
    "collapsed": false
   },
   "outputs": [
    {
     "data": {
      "text/plain": [
       "(55239, 9)"
      ]
     },
     "execution_count": 25,
     "metadata": {},
     "output_type": "execute_result"
    }
   ],
   "source": [
    "sdf = df.sample(int(len(df) * .1))\n",
    "sdf.shape"
   ]
  },
  {
   "cell_type": "code",
   "execution_count": 26,
   "metadata": {
    "collapsed": false
   },
   "outputs": [
    {
     "name": "stdout",
     "output_type": "stream",
     "text": [
      "CPU times: user 23.1 s, sys: 173 ms, total: 23.3 s\n",
      "Wall time: 24.1 s\n"
     ]
    }
   ],
   "source": [
    "%%time \n",
    "\n",
    "# df['start_date'] = pd.to_datetime(df.start_date)\n",
    "# df['end_date'] = pd.to_datetime(df.end_date)\n",
    "\n",
    "sdf['start_date'] = pd.to_datetime(sdf.start_date)\n",
    "sdf['end_date'] = pd.to_datetime(sdf.end_date)"
   ]
  },
  {
   "cell_type": "code",
   "execution_count": 28,
   "metadata": {
    "collapsed": false
   },
   "outputs": [
    {
     "data": {
      "text/html": [
       "<div>\n",
       "<table border=\"1\" class=\"dataframe\">\n",
       "  <thead>\n",
       "    <tr style=\"text-align: right;\">\n",
       "      <th></th>\n",
       "      <th>duration</th>\n",
       "      <th>start_date</th>\n",
       "      <th>end_date</th>\n",
       "      <th>start_station_number</th>\n",
       "      <th>start_station</th>\n",
       "      <th>end_station_number</th>\n",
       "      <th>end_station</th>\n",
       "      <th>bike_number</th>\n",
       "      <th>member_type</th>\n",
       "    </tr>\n",
       "  </thead>\n",
       "  <tbody>\n",
       "    <tr>\n",
       "      <th>438736</th>\n",
       "      <td>634916</td>\n",
       "      <td>2016-01-28 20:38:00</td>\n",
       "      <td>2016-01-28 20:49:00</td>\n",
       "      <td>31101</td>\n",
       "      <td>14th &amp; V St NW</td>\n",
       "      <td>31263</td>\n",
       "      <td>10th &amp; K St NW</td>\n",
       "      <td>W21213</td>\n",
       "      <td>Registered</td>\n",
       "    </tr>\n",
       "    <tr>\n",
       "      <th>125950</th>\n",
       "      <td>136519</td>\n",
       "      <td>2016-03-19 06:48:00</td>\n",
       "      <td>2016-03-19 06:50:00</td>\n",
       "      <td>31248</td>\n",
       "      <td>Smithsonian / Jefferson Dr &amp; 12th St SW</td>\n",
       "      <td>31247</td>\n",
       "      <td>Jefferson Dr &amp; 14th St SW</td>\n",
       "      <td>W20885</td>\n",
       "      <td>Registered</td>\n",
       "    </tr>\n",
       "    <tr>\n",
       "      <th>245103</th>\n",
       "      <td>1078036</td>\n",
       "      <td>2016-03-07 08:33:00</td>\n",
       "      <td>2016-03-07 08:51:00</td>\n",
       "      <td>31400</td>\n",
       "      <td>Georgia &amp; New Hampshire Ave NW</td>\n",
       "      <td>31234</td>\n",
       "      <td>20th &amp; O St NW / Dupont South</td>\n",
       "      <td>W21382</td>\n",
       "      <td>Registered</td>\n",
       "    </tr>\n",
       "    <tr>\n",
       "      <th>49201</th>\n",
       "      <td>626893</td>\n",
       "      <td>2016-03-26 23:36:00</td>\n",
       "      <td>2016-03-26 23:46:00</td>\n",
       "      <td>31634</td>\n",
       "      <td>3rd &amp; Tingey St SE</td>\n",
       "      <td>31605</td>\n",
       "      <td>3rd &amp; D St SE</td>\n",
       "      <td>W01433</td>\n",
       "      <td>Registered</td>\n",
       "    </tr>\n",
       "    <tr>\n",
       "      <th>268433</th>\n",
       "      <td>285198</td>\n",
       "      <td>2016-03-03 07:41:00</td>\n",
       "      <td>2016-03-03 07:45:00</td>\n",
       "      <td>31253</td>\n",
       "      <td>19th &amp; K St NW</td>\n",
       "      <td>31251</td>\n",
       "      <td>12th &amp; L St NW</td>\n",
       "      <td>W00165</td>\n",
       "      <td>Registered</td>\n",
       "    </tr>\n",
       "  </tbody>\n",
       "</table>\n",
       "</div>"
      ],
      "text/plain": [
       "        duration          start_date            end_date  \\\n",
       "438736    634916 2016-01-28 20:38:00 2016-01-28 20:49:00   \n",
       "125950    136519 2016-03-19 06:48:00 2016-03-19 06:50:00   \n",
       "245103   1078036 2016-03-07 08:33:00 2016-03-07 08:51:00   \n",
       "49201     626893 2016-03-26 23:36:00 2016-03-26 23:46:00   \n",
       "268433    285198 2016-03-03 07:41:00 2016-03-03 07:45:00   \n",
       "\n",
       "        start_station_number                            start_station  \\\n",
       "438736                 31101                           14th & V St NW   \n",
       "125950                 31248  Smithsonian / Jefferson Dr & 12th St SW   \n",
       "245103                 31400           Georgia & New Hampshire Ave NW   \n",
       "49201                  31634                       3rd & Tingey St SE   \n",
       "268433                 31253                           19th & K St NW   \n",
       "\n",
       "        end_station_number                    end_station bike_number  \\\n",
       "438736               31263                 10th & K St NW      W21213   \n",
       "125950               31247      Jefferson Dr & 14th St SW      W20885   \n",
       "245103               31234  20th & O St NW / Dupont South      W21382   \n",
       "49201                31605                  3rd & D St SE      W01433   \n",
       "268433               31251                 12th & L St NW      W00165   \n",
       "\n",
       "       member_type  \n",
       "438736  Registered  \n",
       "125950  Registered  \n",
       "245103  Registered  \n",
       "49201   Registered  \n",
       "268433  Registered  "
      ]
     },
     "execution_count": 28,
     "metadata": {},
     "output_type": "execute_result"
    }
   ],
   "source": [
    "sdf.head()"
   ]
  },
  {
   "cell_type": "code",
   "execution_count": 31,
   "metadata": {
    "collapsed": false
   },
   "outputs": [
    {
     "data": {
      "text/plain": [
       "365"
      ]
     },
     "execution_count": 31,
     "metadata": {},
     "output_type": "execute_result"
    }
   ],
   "source": [
    "sdf.start_station.unique().size"
   ]
  },
  {
   "cell_type": "markdown",
   "metadata": {},
   "source": [
    "## Top 10 Casual start station"
   ]
  },
  {
   "cell_type": "code",
   "execution_count": 38,
   "metadata": {
    "collapsed": false
   },
   "outputs": [
    {
     "data": {
      "text/plain": [
       "Lincoln Memorial                                    753\n",
       "Jefferson Dr & 14th St SW                           573\n",
       "Jefferson Memorial                                  301\n",
       "Smithsonian / Jefferson Dr & 12th St SW             284\n",
       "Maryland & Independence Ave SW                      208\n",
       "New York Ave & 15th St NW                           194\n",
       "Constitution Ave & 2nd St NW/DOL                    169\n",
       "Ohio Dr & West Basin Dr SW / MLK & FDR Memorials    169\n",
       "19th St & Constitution Ave NW                       148\n",
       "Massachusetts Ave & Dupont Circle NW                138\n",
       "Name: start_station, dtype: int64"
      ]
     },
     "execution_count": 38,
     "metadata": {},
     "output_type": "execute_result"
    }
   ],
   "source": [
    "casual = sdf[sdf.member_type == 'Casual'].start_station.value_counts().head(10)\n",
    "casual"
   ]
  },
  {
   "cell_type": "code",
   "execution_count": 39,
   "metadata": {
    "collapsed": false
   },
   "outputs": [
    {
     "data": {
      "text/plain": [
       "<matplotlib.axes._subplots.AxesSubplot at 0x115ef68d0>"
      ]
     },
     "execution_count": 39,
     "metadata": {},
     "output_type": "execute_result"
    },
    {
     "data": {
      "image/png": "[encoded data removed]",
      "text/plain": [
       "<matplotlib.figure.Figure at 0x1165656d8>"
      ]
     },
     "metadata": {},
     "output_type": "display_data"
    }
   ],
   "source": [
    "casual.plot(kind = 'bar')"
   ]
  },
  {
   "cell_type": "markdown",
   "metadata": {},
   "source": [
    "## Top 10 Registered start station"
   ]
  },
  {
   "cell_type": "code",
   "execution_count": 40,
   "metadata": {
    "collapsed": false
   },
   "outputs": [
    {
     "data": {
      "text/plain": [
       "<matplotlib.axes._subplots.AxesSubplot at 0x116304908>"
      ]
     },
     "execution_count": 40,
     "metadata": {},
     "output_type": "execute_result"
    },
    {
     "data": {
      "image/png": "[encoded data removed]",
      "text/plain": [
       "<matplotlib.figure.Figure at 0x11630a400>"
      ]
     },
     "metadata": {},
     "output_type": "display_data"
    }
   ],
   "source": [
    "sdf[sdf.member_type == 'Registered'].start_station.value_counts().head(10).plot(kind = \"bar\")"
   ]
  },
  {
   "cell_type": "code",
   "execution_count": 33,
   "metadata": {
    "collapsed": false
   },
   "outputs": [
    {
     "data": {
      "text/plain": [
       "array(['Registered', 'Casual'], dtype=object)"
      ]
     },
     "execution_count": 33,
     "metadata": {},
     "output_type": "execute_result"
    }
   ],
   "source": [
    "sdf.member_type.unique()"
   ]
  },
  {
   "cell_type": "code",
   "execution_count": 43,
   "metadata": {
    "collapsed": false
   },
   "outputs": [
    {
     "data": {
      "text/plain": [
       "<matplotlib.axes._subplots.AxesSubplot at 0x109e8c080>"
      ]
     },
     "execution_count": 43,
     "metadata": {},
     "output_type": "execute_result"
    },
    {
     "data": {
      "image/png": "[encoded data removed]",
      "text/plain": [
       "<matplotlib.figure.Figure at 0x1134fbef0>"
      ]
     },
     "metadata": {},
     "output_type": "display_data"
    }
   ],
   "source": [
    "sdf.start_date.dt.hour.value_counts().sort_index().plot(kind = \"bar\")"
   ]
  },
  {
   "cell_type": "code",
   "execution_count": 46,
   "metadata": {
    "collapsed": false
   },
   "outputs": [
    {
     "data": {
      "text/plain": [
       "<matplotlib.axes._subplots.AxesSubplot at 0x113b796a0>"
      ]
     },
     "execution_count": 46,
     "metadata": {},
     "output_type": "execute_result"
    },
    {
     "data": {
      "image/png": "[encoded data removed]",
      "text/plain": [
       "<matplotlib.figure.Figure at 0x1139980f0>"
      ]
     },
     "metadata": {},
     "output_type": "display_data"
    }
   ],
   "source": [
    "sdf[sdf.start_date.dt.dayofweek == 5].start_date.dt.hour.value_counts().sort_index().plot(kind = \"bar\")"
   ]
  },
  {
   "cell_type": "code",
   "execution_count": null,
   "metadata": {
    "collapsed": true
   },
   "outputs": [],
   "source": []
  }
 ],
 "metadata": {
  "kernelspec": {
   "display_name": "Python 3",
   "language": "python",
   "name": "python3"
  },
  "language_info": {
   "codemirror_mode": {
    "name": "ipython",
    "version": 3
   },
   "file_extension": ".py",
   "mimetype": "text/x-python",
   "name": "python",
   "nbconvert_exporter": "python",
   "pygments_lexer": "ipython3",
   "version": "3.5.1"
  }
 },
 "nbformat": 4,
 "nbformat_minor": 0
}
